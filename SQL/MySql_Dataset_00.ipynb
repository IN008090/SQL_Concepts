{
 "cells": [
  {
   "cell_type": "markdown",
   "id": "25f4efe2",
   "metadata": {},
   "source": [
    "---------------------------------MySQL-Structure Query-----------------------------------------------\n",
    "\n",
    "\n",
    "create database oppo_India; /* First create the database */\n",
    "use oppo_India;  /* To activate the database 'use' keyword used followed by database name*/\n",
    "create table SMT_dept (       /* Create the table in the database*/\n",
    "\t\tserial_no INT auto_increment,   /* The serial no can be automated with  the keyword-auto_increment*/\n",
    "                floor VARCHAR(35) not null,  /*non null keyword is used where no value should remain empty  */\n",
    "                dept VARCHAR(35) default 'undecided',  /* If any value is left ideal it will mention 'undecided'*/\n",
    "                head VARCHAR(35),  /* VARCHAR optimised the memory in the table while if we use CHAR  it reserved all the vacant memory*/\n",
    "                PRIMARY KEY(serial_no)   /* Use of PRIMARY KEY for the serial_no it is mandatory to use it.*/\n",
    "                    );\n",
    "select*from SMT_dept; \n",
    "insert into SMT_dept values \n",
    "\t\t\t(1,'SMT_JO301','SMT','VAIBHAV'),\n",
    "                        (2,'SMT_JO509','ASSEMBLY','ARUN_KUMAR'),\n",
    "                        (3,'SMT_JO511','SUB_ASSEMBLY','NARENDAR_SINGH'),\n",
    "                        (4,'SMT_JO508','TESTING','SHWETAMBER');\n",
    "desc SMT_dept;   /* desc keyword is  used to show the feed attribute data */\n",
    "drop table SMT_dept;  /* To  drop the table*/\n",
    "\n",
    "insert into SMT_dept (floor,head) values       /* To insert the record in the dataset*/\n",
    "\t\t\t\t\t('SMTJO302','Rajesh'),   /* Here dept is not mention as by default mention  as undecided*/\n",
    "                                        ('SMTJO305','Smitha'),\n",
    "                                        ('SMTJO309','Nidhi');\n",
    "alter table SMT_dept add location  VARCHAR(35);  /* To add more column alter keyword is used */\n",
    "alter table SMT_dept drop column location;  /* To DROP the column alter  drop column keyword */\n",
    "update SMT_dept set head ='Tiger' where serial_no =4;  /* To update the record followed with the primary key word*/\n",
    "update SMT_dept set dept='DOWNLOADING', head= 'Bill' where serial_no=5;\n",
    "/* SELECT keyword uses*/\n",
    "select floor from SMT_dept;   /* To check the particular column */\n",
    "select dept, head from SMT_dept order by dept,head desc;   /*  To choose two or more column simuntanely */\n",
    "select  dept from  SMT_dept order by dept asc;  /* Arrange data in ascending order*/\n",
    "select dept from SMT_dept order by dept desc; /* Arrange data  in decending order*/\n",
    "select * from SMT_dept;  \n",
    "select * from SMT_dept limit 4;  /*' It limit the data till 4 serial no*/\n",
    "select dept,head, serial_no from SMT_dept order by serial_no asc;  /* To display  the required  attribute */\n",
    "select * from SMT_dept where serial_no >=6 limit 5;  /* To limit the serial no */ "
   ]
  },
  {
   "cell_type": "code",
   "execution_count": null,
   "id": "0c40f775",
   "metadata": {},
   "outputs": [],
   "source": []
  }
 ],
 "metadata": {
  "kernelspec": {
   "display_name": "Python 3 (ipykernel)",
   "language": "python",
   "name": "python3"
  },
  "language_info": {
   "codemirror_mode": {
    "name": "ipython",
    "version": 3
   },
   "file_extension": ".py",
   "mimetype": "text/x-python",
   "name": "python",
   "nbconvert_exporter": "python",
   "pygments_lexer": "ipython3",
   "version": "3.9.12"
  }
 },
 "nbformat": 4,
 "nbformat_minor": 5
}
